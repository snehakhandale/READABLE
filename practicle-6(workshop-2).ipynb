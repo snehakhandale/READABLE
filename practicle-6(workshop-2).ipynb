{
 "cells": [
  {
   "cell_type": "code",
   "execution_count": 1,
   "id": "9eebcfdd",
   "metadata": {},
   "outputs": [],
   "source": [
    "import pandas as pd"
   ]
  },
  {
   "cell_type": "code",
   "execution_count": 2,
   "id": "cb1e9a72",
   "metadata": {},
   "outputs": [],
   "source": [
    "df = pd.read_csv('iris.csv')"
   ]
  },
  {
   "cell_type": "code",
   "execution_count": 3,
   "id": "dad5ac2c",
   "metadata": {},
   "outputs": [
    {
     "data": {
      "text/plain": [
       "(150, 5)"
      ]
     },
     "execution_count": 3,
     "metadata": {},
     "output_type": "execute_result"
    }
   ],
   "source": [
    "df.shape"
   ]
  },
  {
   "cell_type": "code",
   "execution_count": 8,
   "id": "3a3c02f2",
   "metadata": {},
   "outputs": [],
   "source": [
    "import seaborn as sns\n",
    "df = sns.load_dataset('iris')"
   ]
  },
  {
   "cell_type": "code",
   "execution_count": 4,
   "id": "cb2f4f79",
   "metadata": {},
   "outputs": [],
   "source": [
    "#input data\n",
    "x = df.drop('species',axis =1)"
   ]
  },
  {
   "cell_type": "code",
   "execution_count": 5,
   "id": "cab2f269",
   "metadata": {},
   "outputs": [],
   "source": [
    "#output data\n",
    "y = df['species']"
   ]
  },
  {
   "cell_type": "code",
   "execution_count": 6,
   "id": "c41c9aee",
   "metadata": {},
   "outputs": [
    {
     "data": {
      "text/plain": [
       "setosa        50\n",
       "versicolor    50\n",
       "virginica     50\n",
       "Name: species, dtype: int64"
      ]
     },
     "execution_count": 6,
     "metadata": {},
     "output_type": "execute_result"
    }
   ],
   "source": [
    "y.value_counts()"
   ]
  },
  {
   "cell_type": "code",
   "execution_count": 27,
   "id": "611e727d",
   "metadata": {},
   "outputs": [],
   "source": [
    "#cross validation\n",
    "from sklearn.model_selection import train_test_split\n",
    "x_train, x_test, y_train, y_test = train_test_split(x, y, random_state = 0, test_size = 0.25)"
   ]
  },
  {
   "cell_type": "code",
   "execution_count": 19,
   "id": "ba056a09",
   "metadata": {},
   "outputs": [
    {
     "data": {
      "text/plain": [
       "(112, 4)"
      ]
     },
     "execution_count": 19,
     "metadata": {},
     "output_type": "execute_result"
    }
   ],
   "source": [
    "x_train.shape"
   ]
  },
  {
   "cell_type": "code",
   "execution_count": 22,
   "id": "0f35bf5a",
   "metadata": {},
   "outputs": [],
   "source": [
    "#import class\n",
    "from sklearn.naive_bayes import GaussianNB"
   ]
  },
  {
   "cell_type": "code",
   "execution_count": 23,
   "id": "471f41ba",
   "metadata": {},
   "outputs": [],
   "source": [
    "clf = GaussianNB()"
   ]
  },
  {
   "cell_type": "code",
   "execution_count": 24,
   "id": "58c49867",
   "metadata": {},
   "outputs": [
    {
     "data": {
      "text/plain": [
       "GaussianNB()"
      ]
     },
     "execution_count": 24,
     "metadata": {},
     "output_type": "execute_result"
    }
   ],
   "source": [
    "clf.fit(x_train, y_train)"
   ]
  },
  {
   "cell_type": "code",
   "execution_count": 28,
   "id": "d0c22402",
   "metadata": {},
   "outputs": [],
   "source": [
    "y_pred = clf.predict(x_test)"
   ]
  },
  {
   "cell_type": "code",
   "execution_count": 29,
   "id": "c88794de",
   "metadata": {},
   "outputs": [
    {
     "data": {
      "text/plain": [
       "array(['virginica', 'versicolor', 'setosa', 'virginica', 'setosa',\n",
       "       'virginica', 'setosa', 'versicolor', 'versicolor', 'versicolor',\n",
       "       'virginica', 'versicolor', 'versicolor', 'versicolor',\n",
       "       'versicolor', 'setosa', 'versicolor', 'versicolor', 'setosa',\n",
       "       'setosa', 'virginica', 'versicolor', 'setosa', 'setosa',\n",
       "       'virginica', 'setosa', 'setosa', 'versicolor', 'versicolor',\n",
       "       'setosa', 'virginica', 'versicolor', 'setosa', 'virginica',\n",
       "       'virginica', 'versicolor', 'setosa', 'versicolor'], dtype='<U10')"
      ]
     },
     "execution_count": 29,
     "metadata": {},
     "output_type": "execute_result"
    }
   ],
   "source": [
    "y_pred"
   ]
  },
  {
   "cell_type": "code",
   "execution_count": 33,
   "id": "0a9c7c48",
   "metadata": {},
   "outputs": [],
   "source": [
    "from sklearn.metrics import confusion_matrix\n",
    "from sklearn.metrics import classification_report\n",
    "from sklearn.metrics import accuracy_score\n",
    "from sklearn.metrics import plot_confusion_matrix"
   ]
  },
  {
   "cell_type": "code",
   "execution_count": 34,
   "id": "aa027100",
   "metadata": {},
   "outputs": [
    {
     "data": {
      "text/plain": [
       "array([[13,  0,  0],\n",
       "       [ 0, 16,  0],\n",
       "       [ 0,  0,  9]], dtype=int64)"
      ]
     },
     "execution_count": 34,
     "metadata": {},
     "output_type": "execute_result"
    }
   ],
   "source": [
    "confusion_matrix(y_test, y_pred)"
   ]
  },
  {
   "cell_type": "code",
   "execution_count": 35,
   "id": "58866877",
   "metadata": {},
   "outputs": [
    {
     "data": {
      "text/plain": [
       "<sklearn.metrics._plot.confusion_matrix.ConfusionMatrixDisplay at 0x109d2a43be0>"
      ]
     },
     "execution_count": 35,
     "metadata": {},
     "output_type": "execute_result"
    },
    {
     "data": {
      "image/png": "[encoded data removed]",
      "text/plain": [
       "<Figure size 432x288 with 2 Axes>"
      ]
     },
     "metadata": {
      "needs_background": "light"
     },
     "output_type": "display_data"
    }
   ],
   "source": [
    "plot_confusion_matrix(clf, x_test, y_test)"
   ]
  },
  {
   "cell_type": "code",
   "execution_count": 36,
   "id": "6751a521",
   "metadata": {},
   "outputs": [
    {
     "data": {
      "text/plain": [
       "1.0"
      ]
     },
     "execution_count": 36,
     "metadata": {},
     "output_type": "execute_result"
    }
   ],
   "source": [
    "accuracy_score(y_test, y_pred)"
   ]
  },
  {
   "cell_type": "code",
   "execution_count": 37,
   "id": "71ab593b",
   "metadata": {},
   "outputs": [
    {
     "data": {
      "text/plain": [
       "array([[2.05841140e-233, 1.23816844e-006, 9.99998762e-001],\n",
       "       [1.76139943e-084, 9.99998414e-001, 1.58647449e-006],\n",
       "       [1.00000000e+000, 1.48308613e-018, 1.73234612e-027],\n",
       "       [6.96767669e-312, 5.33743814e-007, 9.99999466e-001],\n",
       "       [1.00000000e+000, 9.33944060e-017, 1.22124682e-026],\n",
       "       [0.00000000e+000, 6.57075840e-011, 1.00000000e+000],\n",
       "       [1.00000000e+000, 1.05531886e-016, 1.55777574e-026],\n",
       "       [2.45560284e-149, 7.80950359e-001, 2.19049641e-001],\n",
       "       [4.01160627e-153, 9.10103555e-001, 8.98964447e-002],\n",
       "       [1.46667004e-094, 9.99887821e-001, 1.12179234e-004],\n",
       "       [5.29999917e-215, 4.59787449e-001, 5.40212551e-001],\n",
       "       [4.93479766e-134, 9.46482991e-001, 5.35170089e-002],\n",
       "       [5.23735688e-135, 9.98906155e-001, 1.09384481e-003],\n",
       "       [4.97057521e-142, 9.50340361e-001, 4.96596389e-002],\n",
       "       [9.11315109e-143, 9.87982897e-001, 1.20171030e-002],\n",
       "       [1.00000000e+000, 7.81797826e-019, 1.29694954e-028],\n",
       "       [3.86310964e-133, 9.87665084e-001, 1.23349155e-002],\n",
       "       [2.27343573e-113, 9.99940331e-001, 5.96690955e-005],\n",
       "       [1.00000000e+000, 1.80007196e-015, 9.14666201e-026],\n",
       "       [1.00000000e+000, 1.30351394e-015, 8.42776899e-025],\n",
       "       [4.66537803e-188, 1.18626155e-002, 9.88137385e-001],\n",
       "       [1.02677291e-131, 9.92205279e-001, 7.79472050e-003],\n",
       "       [1.00000000e+000, 6.61341173e-013, 1.42044069e-022],\n",
       "       [1.00000000e+000, 9.98321355e-017, 3.50690661e-027],\n",
       "       [2.27898063e-170, 1.61227371e-001, 8.38772629e-001],\n",
       "       [1.00000000e+000, 2.29415652e-018, 2.54202512e-028],\n",
       "       [1.00000000e+000, 5.99780345e-011, 5.24260178e-020],\n",
       "       [1.62676386e-112, 9.99340062e-001, 6.59938068e-004],\n",
       "       [2.23238199e-047, 9.99999965e-001, 3.47984452e-008],\n",
       "       [1.00000000e+000, 1.95773682e-013, 4.10256723e-023],\n",
       "       [3.52965800e-228, 1.15450262e-003, 9.98845497e-001],\n",
       "       [3.20480410e-131, 9.93956330e-001, 6.04366979e-003],\n",
       "       [1.00000000e+000, 1.14714843e-016, 2.17310302e-026],\n",
       "       [3.34423817e-177, 8.43422262e-002, 9.15657774e-001],\n",
       "       [5.60348582e-264, 1.03689515e-006, 9.99998963e-001],\n",
       "       [7.48035097e-091, 9.99950155e-001, 4.98452400e-005],\n",
       "       [1.00000000e+000, 1.80571225e-013, 1.83435499e-022],\n",
       "       [8.97496247e-182, 5.65567226e-001, 4.34432774e-001]])"
      ]
     },
     "execution_count": 37,
     "metadata": {},
     "output_type": "execute_result"
    }
   ],
   "source": [
    "clf.predict_proba(x_test)"
   ]
  },
  {
   "cell_type": "code",
   "execution_count": 38,
   "id": "91eb0eb9",
   "metadata": {},
   "outputs": [
    {
     "data": {
      "text/plain": [
       "'versicolor'"
      ]
     },
     "execution_count": 38,
     "metadata": {},
     "output_type": "execute_result"
    }
   ],
   "source": [
    "new1 = [[4.5, 2.9, 3.1, 0.4]]\n",
    "clf.predict(new1)[0]"
   ]
  },
  {
   "cell_type": "code",
   "execution_count": 39,
   "id": "75a86880",
   "metadata": {},
   "outputs": [
    {
     "data": {
      "text/plain": [
       "'virginica'"
      ]
     },
     "execution_count": 39,
     "metadata": {},
     "output_type": "execute_result"
    }
   ],
   "source": [
    "new1 = [[6.5, 3.3, 4.9, 1.8]]\n",
    "clf.predict(new1)[0]"
   ]
  },
  {
   "cell_type": "code",
   "execution_count": 42,
   "id": "a2ae5ffb",
   "metadata": {},
   "outputs": [
    {
     "data": {
      "text/plain": [
       "'setosa'"
      ]
     },
     "execution_count": 42,
     "metadata": {},
     "output_type": "execute_result"
    }
   ],
   "source": [
    "new1 = [[5.5, 3.1, 1.0, 0.8]]\n",
    "clf.predict(new1)[0]"
   ]
  },
  {
   "cell_type": "code",
   "execution_count": null,
   "id": "1e67eccc",
   "metadata": {},
   "outputs": [],
   "source": []
  }
 ],
 "metadata": {
  "kernelspec": {
   "display_name": "Python 3 (ipykernel)",
   "language": "python",
   "name": "python3"
  },
  "language_info": {
   "codemirror_mode": {
    "name": "ipython",
    "version": 3
   },
   "file_extension": ".py",
   "mimetype": "text/x-python",
   "name": "python",
   "nbconvert_exporter": "python",
   "pygments_lexer": "ipython3",
   "version": "3.9.7"
  }
 },
 "nbformat": 4,
 "nbformat_minor": 5
}
